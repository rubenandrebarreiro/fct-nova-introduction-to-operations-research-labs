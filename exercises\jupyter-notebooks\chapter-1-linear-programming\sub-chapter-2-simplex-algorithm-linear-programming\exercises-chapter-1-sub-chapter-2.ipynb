{
  "nbformat": 4,
  "nbformat_minor": 0,
  "metadata": {
    "colab": {
      "name": "Untitled0.ipynb",
      "provenance": [],
      "authorship_tag": "ABX9TyON+8l91t2JtTTZGHTqsKkK",
      "include_colab_link": true
    },
    "kernelspec": {
      "name": "python3",
      "display_name": "Python 3"
    }
  },
  "cells": [
    {
      "cell_type": "markdown",
      "metadata": {
        "id": "view-in-github",
        "colab_type": "text"
      },
      "source": [
        "<a href=\"https://colab.research.google.com/github/rubenandrebarreiro/fct-nova-introduction-to-operations-research-labs/blob/master/exercises%5Cjupyter-notebooks%5Cchapter-1-linear-programming%5Csub-chapter-2-simplex-algorithm-linear-programming%5Cexercises-chapter-1-sub-chapter-2.ipynb\" target=\"_parent\"><img src=\"https://colab.research.google.com/assets/colab-badge.svg\" alt=\"Open In Colab\"/></a>"
      ]
    },
    {
      "cell_type": "code",
      "metadata": {
        "id": "teyPzhALkNca",
        "colab_type": "code",
        "colab": {}
      },
      "source": [
        "# Import Scipy Python's Library and,\n",
        "# its Optimisation Module and Linear Programming Sub-Module\n",
        "from scipy.optimize import linprog"
      ],
      "execution_count": 1,
      "outputs": []
    },
    {
      "cell_type": "code",
      "metadata": {
        "id": "osk4rnojlpIK",
        "colab_type": "code",
        "colab": {}
      },
      "source": [
        "# Import the NumPy Python's Library, with the alias 'np'\n",
        "import numpy as np"
      ],
      "execution_count": 2,
      "outputs": []
    },
    {
      "cell_type": "code",
      "metadata": {
        "id": "qgt2QA--lnxq",
        "colab_type": "code",
        "colab": {}
      },
      "source": [
        "# Import the matplotlib Python's Library, with the alias 'plt'\n",
        "import matplotlib.pyplot as plt\n",
        "%matplotlib inline"
      ],
      "execution_count": 3,
      "outputs": []
    },
    {
      "cell_type": "markdown",
      "metadata": {
        "id": "szND3ZL6mVHI",
        "colab_type": "text"
      },
      "source": [
        "## ***Exercise 1***"
      ]
    },
    {
      "cell_type": "markdown",
      "metadata": {
        "id": "PAQXb9qigrmd",
        "colab_type": "text"
      },
      "source": [
        "1. Consider the following problem of ***Linear Programming***:\n",
        "  \n",
        "  * $ min \\ f(x,y) = -x + 2y $\n",
        "  <br>\n",
        "  <br>\n",
        "  * $ subject \\ to: $\n",
        "    * $ x + y \\leq 3 $\n",
        "    * $ x + 4y \\geq 4 $\n",
        "    * $ -x + y \\leq 0 $\n",
        "    <br>\n",
        "    <br>\n",
        "    * $ x, \\ y \\geq 0 $\n",
        "\n",
        "  <br>\n",
        "\n",
        "  * a) Solve it, ***Graphically***.\n",
        "  * b) Solve it, using the ***Revised Simplex Method***.\n",
        "  * c) Solve it, using the ***Simplex Method***.\n"
      ]
    },
    {
      "cell_type": "markdown",
      "metadata": {
        "id": "DVhCjp1Oi5-S",
        "colab_type": "text"
      },
      "source": [
        "#### ***Exercise 1 - Solutions***"
      ]
    },
    {
      "cell_type": "markdown",
      "metadata": {
        "id": "pcH1kKcHmtap",
        "colab_type": "text"
      },
      "source": [
        "##### a) Solve it, **Graphically**:"
      ]
    },
    {
      "cell_type": "code",
      "metadata": {
        "id": "lTWNoM3Wf5KU",
        "colab_type": "code",
        "colab": {
          "base_uri": "https://localhost:8080/",
          "height": 329
        },
        "outputId": "d7365e19-2e73-44dc-9975-e4caca88d7d7"
      },
      "source": [
        "# Construct Graphic Lines\n",
        "\n",
        "# Steps for Implementation in Python:\n",
        "# - 1) Set the Lines for the Bounds, as equalities:\n",
        "#   - The variable x is set indenpendindependently;\n",
        "#   - The variable y is set as one of yi's, in this case the y0;\n",
        "# - 2) Set the Lines for the Constraints, as equalities:\n",
        "#   - All the equations always are solvable, in order to yi;\n",
        "# - 3) Build the Graphic and Plot the Lines;\n",
        "# - 4) Fill the Feasible Region:\n",
        "#   - Set the Maximum and Minimum of the Feasible Region,\n",
        "#     where, usually the inequations with '>=' are the maximums\n",
        "#     and the inequations with '<=' are the minimums;\n",
        "#   - Then, fill the Feasible Region;\n",
        "\n",
        "# 1) Set the Lines for the Bounds, as equalities:\n",
        "#   a) x >= 0\n",
        "x = np.linspace(0, 20, 2000)\n",
        "\n",
        "#   b) y >= 0\n",
        "y0 = (x*0)\n",
        "\n",
        "\n",
        "# 2) Set the Lines for the Constraints, as equalities:\n",
        "#   a) x + y <= 3 (=) y <= 3 - x\n",
        "y1 = ( 3 - x )\n",
        "\n",
        "#   b) x + 4y >= 4 (=) 4y >= 4 - x (=) y >= (4 - x) / 4\n",
        "y2 = ( 4 - x ) / 4\n",
        "\n",
        "#   c) -x + y <= 0 (=) y <= x \n",
        "y3 = x\n",
        "\n",
        "\n",
        "# 3) Build the Graphic and Plot the Lines:\n",
        "plt.plot(x, y0, label=r'$ y \\geq 0 $')\n",
        "plt.plot(x, y1, label=r'$ x + y \\leq 3 $')\n",
        "plt.plot(x, y2, label=r'$ x + 4y \\geq 4 $')\n",
        "plt.plot(x, y3, label=r'$ -x + y \\leq 0 $')\n",
        "plt.xlim((0, 4.5))\n",
        "plt.ylim((0, 4.5))\n",
        "plt.xlabel(r'$x$')\n",
        "plt.ylabel(r'$y$')\n",
        "\n",
        "\n",
        "# 4) Fill the Feasible Region:\n",
        "y4 = np.minimum(y1, y3)\n",
        "y5 = np.maximum(y0, y2)\n",
        "plt.fill_between(x, y4, y5, where=y4>y5, color='grey', alpha=0.5)\n",
        "\n",
        "\n",
        "# Extras:\n",
        "\n",
        "# - Add a Title to the Graphic Plot:\n",
        "plt.title('Feasible Region for Exercise 1')\n",
        "\n",
        "# - Add a Legend to the Graphic Plot:\n",
        "plt.legend(bbox_to_anchor=(1.05, 1), loc=2, borderaxespad=0.0)\n",
        "\n",
        "# - Adjust the size of the Graphic Plot:\n",
        "plt.figure(figsize=(80,80))\n",
        "\n",
        "# - Save the Graphic Plot, in PNG format:\n",
        "#plt.savefig('exercise-1.png')"
      ],
      "execution_count": 4,
      "outputs": [
        {
          "output_type": "execute_result",
          "data": {
            "text/plain": [
              "<Figure size 5760x5760 with 0 Axes>"
            ]
          },
          "metadata": {
            "tags": []
          },
          "execution_count": 4
        },
        {
          "output_type": "display_data",
          "data": {
            "image/png": "[encoded data removed]",
            "text/plain": [
              "<Figure size 432x288 with 1 Axes>"
            ]
          },
          "metadata": {
            "tags": [],
            "needs_background": "light"
          }
        },
        {
          "output_type": "display_data",
          "data": {
            "text/plain": [
              "<Figure size 5760x5760 with 0 Axes>"
            ]
          },
          "metadata": {
            "tags": []
          }
        }
      ]
    },
    {
      "cell_type": "markdown",
      "metadata": {
        "id": "ant8FdL836T6",
        "colab_type": "text"
      },
      "source": [
        "##### ***Extra***: **Building the Linear Programming Model**"
      ]
    },
    {
      "cell_type": "code",
      "metadata": {
        "id": "wMjnPJ2c0iaW",
        "colab_type": "code",
        "colab": {}
      },
      "source": [
        "##### Extra: Building the Linear Programming Model"
      ],
      "execution_count": 18,
      "outputs": []
    },
    {
      "cell_type": "code",
      "metadata": {
        "id": "XN1B31dagCjd",
        "colab_type": "code",
        "colab": {}
      },
      "source": [
        "objective_function = [-1, -2]\n",
        "#                     ─┬  ─┬\n",
        "#                      │   └┤ Coefficient for y\n",
        "#                      └────┤ Coefficient for x"
      ],
      "execution_count": 12,
      "outputs": []
    },
    {
      "cell_type": "code",
      "metadata": {
        "id": "yQtyQZJnz1av",
        "colab_type": "code",
        "colab": {}
      },
      "source": [
        "constraints_inequalities = [ [  1 ,  1 ],   # Constraint #1\n",
        "                             [  1 ,  4 ],   # Constraint #2\n",
        "                             [ -1 ,  1 ] ]  # Constraint #3\n",
        "\n",
        "constraints_function_values = [ 3,   # Function Value for Constraint #1\n",
        "                    4,   # Function Value for Constraint #2\n",
        "                    0 ]  # Function Value for Constraint #3"
      ],
      "execution_count": 13,
      "outputs": []
    },
    {
      "cell_type": "code",
      "metadata": {
        "id": "M4AvrlGfsgg-",
        "colab_type": "code",
        "colab": {}
      },
      "source": [
        "variable_bounds = [ (0, float(\"inf\")),   # Bounds of x\n",
        "                    (0, float(\"inf\")) ]  # Bounds of y"
      ],
      "execution_count": 14,
      "outputs": []
    },
    {
      "cell_type": "markdown",
      "metadata": {
        "id": "6a9EeX6N0ixC",
        "colab_type": "text"
      },
      "source": [
        "##### b) Solve it, using the ***Revised Simplex Method***"
      ]
    },
    {
      "cell_type": "code",
      "metadata": {
        "id": "KrqGCmxp0CvK",
        "colab_type": "code",
        "colab": {}
      },
      "source": [
        "optimization_problem = linprog(c=objective_function,\n",
        "                               A_ub=constraints_inequalities,\n",
        "                               b_ub = constraints_function_values,\n",
        "                               bounds=variable_bounds,\n",
        "                               method=\"revised simplex\")"
      ],
      "execution_count": 15,
      "outputs": []
    },
    {
      "cell_type": "code",
      "metadata": {
        "id": "fLd8gK2o2uk7",
        "colab_type": "code",
        "colab": {
          "base_uri": "https://localhost:8080/",
          "height": 153
        },
        "outputId": "ba809dce-8a24-4997-97c1-cb1ccbb2f8ca"
      },
      "source": [
        "optimization_problem"
      ],
      "execution_count": 16,
      "outputs": [
        {
          "output_type": "execute_result",
          "data": {
            "text/plain": [
              "     con: array([], dtype=float64)\n",
              "     fun: -3.3333333333333335\n",
              " message: 'Optimization terminated successfully.'\n",
              "     nit: 3\n",
              "   slack: array([0.        , 0.        , 2.33333333])\n",
              "  status: 0\n",
              " success: True\n",
              "       x: array([2.66666667, 0.33333333])"
            ]
          },
          "metadata": {
            "tags": []
          },
          "execution_count": 16
        }
      ]
    },
    {
      "cell_type": "code",
      "metadata": {
        "id": "BsvqZZir4mAW",
        "colab_type": "code",
        "colab": {}
      },
      "source": [
        ""
      ],
      "execution_count": null,
      "outputs": []
    },
    {
      "cell_type": "code",
      "metadata": {
        "id": "4zyJTFuf4Xds",
        "colab_type": "code",
        "colab": {
          "base_uri": "https://localhost:8080/",
          "height": 34
        },
        "outputId": "91c87178-5b45-4872-bcd0-fa4678df19db"
      },
      "source": [
        "optimization_problem.fun"
      ],
      "execution_count": 19,
      "outputs": [
        {
          "output_type": "execute_result",
          "data": {
            "text/plain": [
              "-3.3333333333333335"
            ]
          },
          "metadata": {
            "tags": []
          },
          "execution_count": 19
        }
      ]
    },
    {
      "cell_type": "code",
      "metadata": {
        "id": "q_BdLuN94ch9",
        "colab_type": "code",
        "colab": {
          "base_uri": "https://localhost:8080/",
          "height": 34
        },
        "outputId": "0e95e783-0033-4ac5-eb36-c89b8b546142"
      },
      "source": [
        "optimization_problem.success"
      ],
      "execution_count": 20,
      "outputs": [
        {
          "output_type": "execute_result",
          "data": {
            "text/plain": [
              "True"
            ]
          },
          "metadata": {
            "tags": []
          },
          "execution_count": 20
        }
      ]
    },
    {
      "cell_type": "code",
      "metadata": {
        "id": "zbPoqZTU4wiI",
        "colab_type": "code",
        "colab": {
          "base_uri": "https://localhost:8080/",
          "height": 34
        },
        "outputId": "a2966643-0502-4c1d-ab66-a170ebd31c90"
      },
      "source": [
        "optimization_problem.x"
      ],
      "execution_count": 21,
      "outputs": [
        {
          "output_type": "execute_result",
          "data": {
            "text/plain": [
              "array([2.66666667, 0.33333333])"
            ]
          },
          "metadata": {
            "tags": []
          },
          "execution_count": 21
        }
      ]
    }
  ]
}